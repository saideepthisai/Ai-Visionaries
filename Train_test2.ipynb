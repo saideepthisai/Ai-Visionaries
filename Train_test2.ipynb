{
  "nbformat": 4,
  "nbformat_minor": 0,
  "metadata": {
    "colab": {
      "provenance": []
    },
    "kernelspec": {
      "name": "python3",
      "display_name": "Python 3"
    },
    "language_info": {
      "name": "python"
    }
  },
  "cells": [
    {
      "cell_type": "code",
      "source": [
        "from google.colab import drive\n",
        "drive.mount('/content/drive')"
      ],
      "metadata": {
        "colab": {
          "base_uri": "https://localhost:8080/"
        },
        "id": "d9dzkbAgI9kM",
        "outputId": "5096c3da-50e9-4d39-cdd7-1d01c4475a25"
      },
      "execution_count": null,
      "outputs": [
        {
          "output_type": "stream",
          "name": "stdout",
          "text": [
            "Mounted at /content/drive\n"
          ]
        }
      ]
    },
    {
      "cell_type": "code",
      "source": [
        "# Install dependencies (if not already installed)\n",
        "!pip install xgboost scikit-learn pandas seaborn joblib --quiet\n"
      ],
      "metadata": {
        "id": "rKqv5IDbJH_g"
      },
      "execution_count": null,
      "outputs": []
    },
    {
      "cell_type": "code",
      "source": [
        "import pandas as pd\n",
        "import xgboost as xgb\n",
        "import joblib  # To save the model\n",
        "from sklearn.model_selection import train_test_split\n",
        "from sklearn.metrics import accuracy_score, classification_report, confusion_matrix\n",
        "import seaborn as sns\n",
        "import matplotlib.pyplot as plt\n",
        "\n",
        "# Load the dataset\n",
        "file_path = \"/content/sample_data/balanced_sepsis_data (1).csv\"\n",
        "df = pd.read_csv(file_path)\n",
        "\n",
        "# Fix column names (remove special characters)\n",
        "df.columns = df.columns.str.replace('[^A-Za-z0-9_]', '', regex=True)\n",
        "\n",
        "# Step 1: Separate features and target\n",
        "X = df.drop(columns=[\"SepsisLabel\"])  # Features\n",
        "y = df[\"SepsisLabel\"]  # Target\n",
        "\n",
        "# Step 2: Split into training & testing sets (80% train, 20% test)\n",
        "X_train, X_test, y_train, y_test = train_test_split(X, y, test_size=0.2, random_state=42)\n",
        "\n",
        "# Step 3: Train the XGBoost model\n",
        "xgb_model = xgb.XGBClassifier(\n",
        "    objective=\"binary:logistic\",\n",
        "    eval_metric=\"logloss\",\n",
        "    use_label_encoder=False,\n",
        "    n_estimators=100,\n",
        "    max_depth=6,\n",
        "    learning_rate=0.05,\n",
        "    subsample=0.8,\n",
        "    colsample_bytree=0.8,\n",
        "    random_state=42\n",
        ")\n",
        "xgb_model.fit(X_train, y_train)\n",
        "\n",
        "# Step 4: Make predictions\n",
        "y_pred = xgb_model.predict(X_test)\n",
        "\n",
        "# Step 5: Evaluate the Model\n",
        "accuracy = accuracy_score(y_test, y_pred)\n",
        "print(f\"✅ XGBoost Model Accuracy: {accuracy:.4f}\\n\")\n",
        "print(\"📌 Classification Report:\\n\", classification_report(y_test, y_pred))\n",
        "\n",
        "# Step 6: Confusion Matrix Visualization\n",
        "plt.figure(figsize=(6,5))\n",
        "sns.heatmap(confusion_matrix(y_test, y_pred), annot=True, fmt=\"d\", cmap=\"Blues\",\n",
        "            xticklabels=[\"No Sepsis\", \"Sepsis\"], yticklabels=[\"No Sepsis\", \"Sepsis\"])\n",
        "plt.xlabel(\"Predicted\")\n",
        "plt.ylabel(\"Actual\")\n",
        "plt.title(\"Confusion Matrix\")\n",
        "plt.show()\n",
        "\n",
        "# Step 7: Save the trained model\n",
        "model_path = \"xgboost_sepsis_model.pkl\"\n",
        "joblib.dump(xgb_model, model_path)\n",
        "print(f\"✅ XGBoost Model saved as: {model_path}\")"
      ],
      "metadata": {
        "colab": {
          "base_uri": "https://localhost:8080/",
          "height": 782
        },
        "id": "pKXw-E4FQtnj",
        "outputId": "c51199f1-cde6-4bbb-f82f-af06e014d1de"
      },
      "execution_count": null,
      "outputs": [
        {
          "output_type": "stream",
          "name": "stderr",
          "text": [
            "/usr/local/lib/python3.10/dist-packages/xgboost/core.py:158: UserWarning: [12:23:16] WARNING: /workspace/src/learner.cc:740: \n",
            "Parameters: { \"use_label_encoder\" } are not used.\n",
            "\n",
            "  warnings.warn(smsg, UserWarning)\n"
          ]
        },
        {
          "output_type": "stream",
          "name": "stdout",
          "text": [
            "✅ XGBoost Model Accuracy: 0.9252\n",
            "\n",
            "📌 Classification Report:\n",
            "               precision    recall  f1-score   support\n",
            "\n",
            "           0       0.90      0.95      0.93     58779\n",
            "           1       0.95      0.90      0.92     58820\n",
            "\n",
            "    accuracy                           0.93    117599\n",
            "   macro avg       0.93      0.93      0.93    117599\n",
            "weighted avg       0.93      0.93      0.93    117599\n",
            "\n"
          ]
        },
        {
          "output_type": "display_data",
          "data": {
            "text/plain": [
              "<Figure size 600x500 with 2 Axes>"
            ],
            "image/png": "[encoded data removed]"
          },
          "metadata": {}
        },
        {
          "output_type": "stream",
          "name": "stdout",
          "text": [
            "✅ XGBoost Model saved as: xgboost_sepsis_model.pkl\n"
          ]
        }
      ]
    },
    {
      "cell_type": "code",
      "source": [
        "!pip install tensorflow keras scikit-learn pandas matplotlib seaborn\n",
        "\n",
        "\n"
      ],
      "metadata": {
        "colab": {
          "base_uri": "https://localhost:8080/"
        },
        "id": "6rJfQfn_Rr5E",
        "outputId": "08549c1e-dd6f-422f-d515-dd1557ef5947"
      },
      "execution_count": null,
      "outputs": [
        {
          "output_type": "stream",
          "name": "stdout",
          "text": [
            "Requirement already satisfied: tensorflow in /usr/local/lib/python3.10/dist-packages (2.17.1)\n",
            "Requirement already satisfied: keras in /usr/local/lib/python3.10/dist-packages (3.5.0)\n",
            "Requirement already satisfied: scikit-learn in /usr/local/lib/python3.10/dist-packages (1.6.0)\n",
            "Requirement already satisfied: pandas in /usr/local/lib/python3.10/dist-packages (2.2.2)\n",
            "Requirement already satisfied: matplotlib in /usr/local/lib/python3.10/dist-packages (3.8.0)\n",
            "Requirement already satisfied: seaborn in /usr/local/lib/python3.10/dist-packages (0.13.2)\n",
            "Requirement already satisfied: absl-py>=1.0.0 in /usr/local/lib/python3.10/dist-packages (from tensorflow) (1.4.0)\n",
            "Requirement already satisfied: astunparse>=1.6.0 in /usr/local/lib/python3.10/dist-packages (from tensorflow) (1.6.3)\n",
            "Requirement already satisfied: flatbuffers>=24.3.25 in /usr/local/lib/python3.10/dist-packages (from tensorflow) (24.3.25)\n",
            "Requirement already satisfied: gast!=0.5.0,!=0.5.1,!=0.5.2,>=0.2.1 in /usr/local/lib/python3.10/dist-packages (from tensorflow) (0.6.0)\n",
            "Requirement already satisfied: google-pasta>=0.1.1 in /usr/local/lib/python3.10/dist-packages (from tensorflow) (0.2.0)\n",
            "Requirement already satisfied: h5py>=3.10.0 in /usr/local/lib/python3.10/dist-packages (from tensorflow) (3.12.1)\n",
            "Requirement already satisfied: libclang>=13.0.0 in /usr/local/lib/python3.10/dist-packages (from tensorflow) (18.1.1)\n",
            "Requirement already satisfied: ml-dtypes<0.5.0,>=0.3.1 in /usr/local/lib/python3.10/dist-packages (from tensorflow) (0.4.1)\n",
            "Requirement already satisfied: opt-einsum>=2.3.2 in /usr/local/lib/python3.10/dist-packages (from tensorflow) (3.4.0)\n",
            "Requirement already satisfied: packaging in /usr/local/lib/python3.10/dist-packages (from tensorflow) (24.2)\n",
            "Requirement already satisfied: protobuf!=4.21.0,!=4.21.1,!=4.21.2,!=4.21.3,!=4.21.4,!=4.21.5,<5.0.0dev,>=3.20.3 in /usr/local/lib/python3.10/dist-packages (from tensorflow) (4.25.5)\n",
            "Requirement already satisfied: requests<3,>=2.21.0 in /usr/local/lib/python3.10/dist-packages (from tensorflow) (2.32.3)\n",
            "Requirement already satisfied: setuptools in /usr/local/lib/python3.10/dist-packages (from tensorflow) (75.1.0)\n",
            "Requirement already satisfied: six>=1.12.0 in /usr/local/lib/python3.10/dist-packages (from tensorflow) (1.17.0)\n",
            "Requirement already satisfied: termcolor>=1.1.0 in /usr/local/lib/python3.10/dist-packages (from tensorflow) (2.5.0)\n",
            "Requirement already satisfied: typing-extensions>=3.6.6 in /usr/local/lib/python3.10/dist-packages (from tensorflow) (4.12.2)\n",
            "Requirement already satisfied: wrapt>=1.11.0 in /usr/local/lib/python3.10/dist-packages (from tensorflow) (1.17.0)\n",
            "Requirement already satisfied: grpcio<2.0,>=1.24.3 in /usr/local/lib/python3.10/dist-packages (from tensorflow) (1.68.1)\n",
            "Requirement already satisfied: tensorboard<2.18,>=2.17 in /usr/local/lib/python3.10/dist-packages (from tensorflow) (2.17.1)\n",
            "Requirement already satisfied: tensorflow-io-gcs-filesystem>=0.23.1 in /usr/local/lib/python3.10/dist-packages (from tensorflow) (0.37.1)\n",
            "Requirement already satisfied: numpy<2.0.0,>=1.23.5 in /usr/local/lib/python3.10/dist-packages (from tensorflow) (1.26.4)\n",
            "Requirement already satisfied: rich in /usr/local/lib/python3.10/dist-packages (from keras) (13.9.4)\n",
            "Requirement already satisfied: namex in /usr/local/lib/python3.10/dist-packages (from keras) (0.0.8)\n",
            "Requirement already satisfied: optree in /usr/local/lib/python3.10/dist-packages (from keras) (0.13.1)\n",
            "Requirement already satisfied: scipy>=1.6.0 in /usr/local/lib/python3.10/dist-packages (from scikit-learn) (1.13.1)\n",
            "Requirement already satisfied: joblib>=1.2.0 in /usr/local/lib/python3.10/dist-packages (from scikit-learn) (1.4.2)\n",
            "Requirement already satisfied: threadpoolctl>=3.1.0 in /usr/local/lib/python3.10/dist-packages (from scikit-learn) (3.5.0)\n",
            "Requirement already satisfied: python-dateutil>=2.8.2 in /usr/local/lib/python3.10/dist-packages (from pandas) (2.8.2)\n",
            "Requirement already satisfied: pytz>=2020.1 in /usr/local/lib/python3.10/dist-packages (from pandas) (2024.2)\n",
            "Requirement already satisfied: tzdata>=2022.7 in /usr/local/lib/python3.10/dist-packages (from pandas) (2024.2)\n",
            "Requirement already satisfied: contourpy>=1.0.1 in /usr/local/lib/python3.10/dist-packages (from matplotlib) (1.3.1)\n",
            "Requirement already satisfied: cycler>=0.10 in /usr/local/lib/python3.10/dist-packages (from matplotlib) (0.12.1)\n",
            "Requirement already satisfied: fonttools>=4.22.0 in /usr/local/lib/python3.10/dist-packages (from matplotlib) (4.55.3)\n",
            "Requirement already satisfied: kiwisolver>=1.0.1 in /usr/local/lib/python3.10/dist-packages (from matplotlib) (1.4.7)\n",
            "Requirement already satisfied: pillow>=6.2.0 in /usr/local/lib/python3.10/dist-packages (from matplotlib) (11.0.0)\n",
            "Requirement already satisfied: pyparsing>=2.3.1 in /usr/local/lib/python3.10/dist-packages (from matplotlib) (3.2.0)\n",
            "Requirement already satisfied: wheel<1.0,>=0.23.0 in /usr/local/lib/python3.10/dist-packages (from astunparse>=1.6.0->tensorflow) (0.45.1)\n",
            "Requirement already satisfied: charset-normalizer<4,>=2 in /usr/local/lib/python3.10/dist-packages (from requests<3,>=2.21.0->tensorflow) (3.4.0)\n",
            "Requirement already satisfied: idna<4,>=2.5 in /usr/local/lib/python3.10/dist-packages (from requests<3,>=2.21.0->tensorflow) (3.10)\n",
            "Requirement already satisfied: urllib3<3,>=1.21.1 in /usr/local/lib/python3.10/dist-packages (from requests<3,>=2.21.0->tensorflow) (2.2.3)\n",
            "Requirement already satisfied: certifi>=2017.4.17 in /usr/local/lib/python3.10/dist-packages (from requests<3,>=2.21.0->tensorflow) (2024.12.14)\n",
            "Requirement already satisfied: markdown>=2.6.8 in /usr/local/lib/python3.10/dist-packages (from tensorboard<2.18,>=2.17->tensorflow) (3.7)\n",
            "Requirement already satisfied: tensorboard-data-server<0.8.0,>=0.7.0 in /usr/local/lib/python3.10/dist-packages (from tensorboard<2.18,>=2.17->tensorflow) (0.7.2)\n",
            "Requirement already satisfied: werkzeug>=1.0.1 in /usr/local/lib/python3.10/dist-packages (from tensorboard<2.18,>=2.17->tensorflow) (3.1.3)\n",
            "Requirement already satisfied: markdown-it-py>=2.2.0 in /usr/local/lib/python3.10/dist-packages (from rich->keras) (3.0.0)\n",
            "Requirement already satisfied: pygments<3.0.0,>=2.13.0 in /usr/local/lib/python3.10/dist-packages (from rich->keras) (2.18.0)\n",
            "Requirement already satisfied: mdurl~=0.1 in /usr/local/lib/python3.10/dist-packages (from markdown-it-py>=2.2.0->rich->keras) (0.1.2)\n",
            "Requirement already satisfied: MarkupSafe>=2.1.1 in /usr/local/lib/python3.10/dist-packages (from werkzeug>=1.0.1->tensorboard<2.18,>=2.17->tensorflow) (3.0.2)\n"
          ]
        }
      ]
    },
    {
      "cell_type": "code",
      "source": [
        "import pandas as pd\n",
        "from sklearn.model_selection import train_test_split\n",
        "from sklearn.preprocessing import StandardScaler\n",
        "from tensorflow.keras.models import Sequential\n",
        "from tensorflow.keras.layers import Dense\n",
        "from tensorflow.keras.optimizers import Adam\n",
        "from sklearn.metrics import accuracy_score\n",
        "\n",
        "# Load the dataset\n",
        "data = pd.read_csv(\"/content/sample_data/balanced_sepsis_data (1).csv\")\n",
        "\n",
        "# Print the column names to inspect\n",
        "print(\"Columns in the dataset:\", data.columns)\n",
        "\n",
        "# Identify the target column dynamically\n",
        "# Let's assume the target column is the last column (this is just a placeholder, adjust as necessary)\n",
        "target_column = data.columns[-1]  # Use the last column as the target (modify if needed)\n",
        "print(f\"Using '{target_column}' as the target column\")\n",
        "\n",
        "# Split the dataset into features (X) and target (y)\n",
        "X = data.drop(target_column, axis=1)  # Features (drop the target column)\n",
        "y = data[target_column]               # Target (the target column)\n",
        "\n",
        "# Split the data into training and testing sets (80% train, 20% test)\n",
        "X_train, X_test, y_train, y_test = train_test_split(X, y, test_size=0.2, random_state=42)\n",
        "\n",
        "# Feature scaling (important for ANN)\n",
        "scaler = StandardScaler()\n",
        "X_train = scaler.fit_transform(X_train)\n",
        "X_test = scaler.transform(X_test)\n",
        "\n",
        "# Build the ANN model\n",
        "model = Sequential()\n",
        "model.add(Dense(units=64, activation='relu', input_dim=X_train.shape[1]))  # First hidden layer\n",
        "model.add(Dense(units=32, activation='relu'))  # Second hidden layer\n",
        "model.add(Dense(units=1, activation='sigmoid'))  # Output layer (for binary classification)\n",
        "\n",
        "# Compile the model\n",
        "model.compile(optimizer=Adam(), loss='binary_crossentropy', metrics=['accuracy'])\n",
        "\n",
        "# Train the model\n",
        "model.fit(X_train, y_train, epochs=50, batch_size=32, validation_split=0.2)\n",
        "\n",
        "# Evaluate the model on the test set\n",
        "loss, accuracy = model.evaluate(X_test, y_test)\n",
        "print(f\"Test Accuracy: {accuracy * 100:.2f}%\")\n",
        "\n",
        "# Predict with the model on the test set\n",
        "y_pred = model.predict(X_test)\n",
        "y_pred = (y_pred > 0.5)  # Convert probabilities to binary labels (0 or 1)\n",
        "\n",
        "# Calculate accuracy using sklearn (optional for comparison)\n",
        "acc = accuracy_score(y_test, y_pred)\n",
        "print(f\"Accuracy using sklearn: {acc * 100:.2f}%\")\n",
        "\n",
        "\n",
        "\n"
      ],
      "metadata": {
        "colab": {
          "base_uri": "https://localhost:8080/"
        },
        "id": "1Dq166EWRtY3",
        "outputId": "75ac5a8c-0f8c-4484-9280-cd323dacdd23"
      },
      "execution_count": null,
      "outputs": [
        {
          "output_type": "stream",
          "name": "stdout",
          "text": [
            "Columns in the dataset: Index(['Unnamed: 0', 'Hour', 'HR', 'O2Sat', 'Temp', 'SBP', 'MAP', 'DBP',\n",
            "       'Resp', 'Glucose', 'Age', 'Gender', 'Unit1', 'Unit2', 'HospAdmTime',\n",
            "       'ICULOS', 'Patient_ID', 'SepsisLabel'],\n",
            "      dtype='object')\n",
            "Using 'SepsisLabel' as the target column\n",
            "Epoch 1/50\n"
          ]
        },
        {
          "output_type": "stream",
          "name": "stderr",
          "text": [
            "/usr/local/lib/python3.10/dist-packages/keras/src/layers/core/dense.py:87: UserWarning: Do not pass an `input_shape`/`input_dim` argument to a layer. When using Sequential models, prefer using an `Input(shape)` object as the first layer in the model instead.\n",
            "  super().__init__(activity_regularizer=activity_regularizer, **kwargs)\n"
          ]
        },
        {
          "output_type": "stream",
          "name": "stdout",
          "text": [
            "\u001b[1m11760/11760\u001b[0m \u001b[32m━━━━━━━━━━━━━━━━━━━━\u001b[0m\u001b[37m\u001b[0m \u001b[1m32s\u001b[0m 3ms/step - accuracy: 0.7105 - loss: 0.5571 - val_accuracy: 0.7614 - val_loss: 0.4841\n",
            "Epoch 2/50\n",
            "\u001b[1m11760/11760\u001b[0m \u001b[32m━━━━━━━━━━━━━━━━━━━━\u001b[0m\u001b[37m\u001b[0m \u001b[1m23s\u001b[0m 2ms/step - accuracy: 0.7668 - loss: 0.4749 - val_accuracy: 0.7894 - val_loss: 0.4424\n",
            "Epoch 3/50\n",
            "\u001b[1m11760/11760\u001b[0m \u001b[32m━━━━━━━━━━━━━━━━━━━━\u001b[0m\u001b[37m\u001b[0m \u001b[1m21s\u001b[0m 2ms/step - accuracy: 0.7900 - loss: 0.4405 - val_accuracy: 0.8010 - val_loss: 0.4228\n",
            "Epoch 4/50\n",
            "\u001b[1m11760/11760\u001b[0m \u001b[32m━━━━━━━━━━━━━━━━━━━━\u001b[0m\u001b[37m\u001b[0m \u001b[1m18s\u001b[0m 2ms/step - accuracy: 0.8009 - loss: 0.4209 - val_accuracy: 0.8082 - val_loss: 0.4067\n",
            "Epoch 5/50\n",
            "\u001b[1m11760/11760\u001b[0m \u001b[32m━━━━━━━━━━━━━━━━━━━━\u001b[0m\u001b[37m\u001b[0m \u001b[1m22s\u001b[0m 2ms/step - accuracy: 0.8086 - loss: 0.4077 - val_accuracy: 0.8123 - val_loss: 0.4016\n",
            "Epoch 6/50\n",
            "\u001b[1m11760/11760\u001b[0m \u001b[32m━━━━━━━━━━━━━━━━━━━━\u001b[0m\u001b[37m\u001b[0m \u001b[1m38s\u001b[0m 2ms/step - accuracy: 0.8153 - loss: 0.3995 - val_accuracy: 0.8106 - val_loss: 0.4047\n",
            "Epoch 7/50\n",
            "\u001b[1m11760/11760\u001b[0m \u001b[32m━━━━━━━━━━━━━━━━━━━━\u001b[0m\u001b[37m\u001b[0m \u001b[1m21s\u001b[0m 2ms/step - accuracy: 0.8181 - loss: 0.3931 - val_accuracy: 0.8223 - val_loss: 0.3863\n",
            "Epoch 8/50\n",
            "\u001b[1m11760/11760\u001b[0m \u001b[32m━━━━━━━━━━━━━━━━━━━━\u001b[0m\u001b[37m\u001b[0m \u001b[1m21s\u001b[0m 2ms/step - accuracy: 0.8224 - loss: 0.3869 - val_accuracy: 0.8136 - val_loss: 0.4008\n",
            "Epoch 9/50\n",
            "\u001b[1m11760/11760\u001b[0m \u001b[32m━━━━━━━━━━━━━━━━━━━━\u001b[0m\u001b[37m\u001b[0m \u001b[1m18s\u001b[0m 2ms/step - accuracy: 0.8254 - loss: 0.3811 - val_accuracy: 0.8253 - val_loss: 0.3815\n",
            "Epoch 10/50\n",
            "\u001b[1m11760/11760\u001b[0m \u001b[32m━━━━━━━━━━━━━━━━━━━━\u001b[0m\u001b[37m\u001b[0m \u001b[1m20s\u001b[0m 2ms/step - accuracy: 0.8255 - loss: 0.3792 - val_accuracy: 0.8188 - val_loss: 0.3885\n",
            "Epoch 11/50\n",
            "\u001b[1m11760/11760\u001b[0m \u001b[32m━━━━━━━━━━━━━━━━━━━━\u001b[0m\u001b[37m\u001b[0m \u001b[1m20s\u001b[0m 2ms/step - accuracy: 0.8293 - loss: 0.3746 - val_accuracy: 0.8293 - val_loss: 0.3745\n",
            "Epoch 12/50\n",
            "\u001b[1m11760/11760\u001b[0m \u001b[32m━━━━━━━━━━━━━━━━━━━━\u001b[0m\u001b[37m\u001b[0m \u001b[1m22s\u001b[0m 2ms/step - accuracy: 0.8304 - loss: 0.3702 - val_accuracy: 0.8303 - val_loss: 0.3720\n",
            "Epoch 13/50\n",
            "\u001b[1m11760/11760\u001b[0m \u001b[32m━━━━━━━━━━━━━━━━━━━━\u001b[0m\u001b[37m\u001b[0m \u001b[1m41s\u001b[0m 2ms/step - accuracy: 0.8309 - loss: 0.3695 - val_accuracy: 0.8301 - val_loss: 0.3714\n",
            "Epoch 14/50\n",
            "\u001b[1m11760/11760\u001b[0m \u001b[32m━━━━━━━━━━━━━━━━━━━━\u001b[0m\u001b[37m\u001b[0m \u001b[1m37s\u001b[0m 2ms/step - accuracy: 0.8344 - loss: 0.3643 - val_accuracy: 0.8273 - val_loss: 0.3858\n",
            "Epoch 15/50\n",
            "\u001b[1m11760/11760\u001b[0m \u001b[32m━━━━━━━━━━━━━━━━━━━━\u001b[0m\u001b[37m\u001b[0m \u001b[1m21s\u001b[0m 2ms/step - accuracy: 0.8363 - loss: 0.3625 - val_accuracy: 0.8347 - val_loss: 0.3631\n",
            "Epoch 16/50\n",
            "\u001b[1m11760/11760\u001b[0m \u001b[32m━━━━━━━━━━━━━━━━━━━━\u001b[0m\u001b[37m\u001b[0m \u001b[1m18s\u001b[0m 2ms/step - accuracy: 0.8363 - loss: 0.3613 - val_accuracy: 0.8387 - val_loss: 0.3606\n",
            "Epoch 17/50\n",
            "\u001b[1m11760/11760\u001b[0m \u001b[32m━━━━━━━━━━━━━━━━━━━━\u001b[0m\u001b[37m\u001b[0m \u001b[1m20s\u001b[0m 2ms/step - accuracy: 0.8365 - loss: 0.3601 - val_accuracy: 0.8381 - val_loss: 0.3562\n",
            "Epoch 18/50\n",
            "\u001b[1m11760/11760\u001b[0m \u001b[32m━━━━━━━━━━━━━━━━━━━━\u001b[0m\u001b[37m\u001b[0m \u001b[1m19s\u001b[0m 2ms/step - accuracy: 0.8388 - loss: 0.3575 - val_accuracy: 0.8378 - val_loss: 0.3598\n",
            "Epoch 19/50\n",
            "\u001b[1m11760/11760\u001b[0m \u001b[32m━━━━━━━━━━━━━━━━━━━━\u001b[0m\u001b[37m\u001b[0m \u001b[1m21s\u001b[0m 2ms/step - accuracy: 0.8385 - loss: 0.3560 - val_accuracy: 0.8361 - val_loss: 0.3581\n",
            "Epoch 20/50\n",
            "\u001b[1m11760/11760\u001b[0m \u001b[32m━━━━━━━━━━━━━━━━━━━━\u001b[0m\u001b[37m\u001b[0m \u001b[1m19s\u001b[0m 2ms/step - accuracy: 0.8380 - loss: 0.3570 - val_accuracy: 0.8399 - val_loss: 0.3559\n",
            "Epoch 21/50\n",
            "\u001b[1m11760/11760\u001b[0m \u001b[32m━━━━━━━━━━━━━━━━━━━━\u001b[0m\u001b[37m\u001b[0m \u001b[1m24s\u001b[0m 2ms/step - accuracy: 0.8406 - loss: 0.3527 - val_accuracy: 0.8351 - val_loss: 0.3586\n",
            "Epoch 22/50\n",
            "\u001b[1m11760/11760\u001b[0m \u001b[32m━━━━━━━━━━━━━━━━━━━━\u001b[0m\u001b[37m\u001b[0m \u001b[1m21s\u001b[0m 2ms/step - accuracy: 0.8418 - loss: 0.3521 - val_accuracy: 0.8383 - val_loss: 0.3596\n",
            "Epoch 23/50\n",
            "\u001b[1m11760/11760\u001b[0m \u001b[32m━━━━━━━━━━━━━━━━━━━━\u001b[0m\u001b[37m\u001b[0m \u001b[1m40s\u001b[0m 2ms/step - accuracy: 0.8422 - loss: 0.3509 - val_accuracy: 0.8431 - val_loss: 0.3480\n",
            "Epoch 24/50\n",
            "\u001b[1m11760/11760\u001b[0m \u001b[32m━━━━━━━━━━━━━━━━━━━━\u001b[0m\u001b[37m\u001b[0m \u001b[1m20s\u001b[0m 2ms/step - accuracy: 0.8428 - loss: 0.3502 - val_accuracy: 0.8410 - val_loss: 0.3534\n",
            "Epoch 25/50\n",
            "\u001b[1m11760/11760\u001b[0m \u001b[32m━━━━━━━━━━━━━━━━━━━━\u001b[0m\u001b[37m\u001b[0m \u001b[1m19s\u001b[0m 2ms/step - accuracy: 0.8439 - loss: 0.3473 - val_accuracy: 0.8439 - val_loss: 0.3476\n",
            "Epoch 26/50\n",
            "\u001b[1m11760/11760\u001b[0m \u001b[32m━━━━━━━━━━━━━━━━━━━━\u001b[0m\u001b[37m\u001b[0m \u001b[1m21s\u001b[0m 2ms/step - accuracy: 0.8436 - loss: 0.3479 - val_accuracy: 0.8435 - val_loss: 0.3479\n",
            "Epoch 27/50\n",
            "\u001b[1m11760/11760\u001b[0m \u001b[32m━━━━━━━━━━━━━━━━━━━━\u001b[0m\u001b[37m\u001b[0m \u001b[1m18s\u001b[0m 1ms/step - accuracy: 0.8438 - loss: 0.3475 - val_accuracy: 0.8416 - val_loss: 0.3479\n",
            "Epoch 28/50\n",
            "\u001b[1m11760/11760\u001b[0m \u001b[32m━━━━━━━━━━━━━━━━━━━━\u001b[0m\u001b[37m\u001b[0m \u001b[1m21s\u001b[0m 2ms/step - accuracy: 0.8450 - loss: 0.3466 - val_accuracy: 0.8356 - val_loss: 0.3604\n",
            "Epoch 29/50\n",
            "\u001b[1m11760/11760\u001b[0m \u001b[32m━━━━━━━━━━━━━━━━━━━━\u001b[0m\u001b[37m\u001b[0m \u001b[1m44s\u001b[0m 2ms/step - accuracy: 0.8461 - loss: 0.3433 - val_accuracy: 0.8453 - val_loss: 0.3468\n",
            "Epoch 30/50\n",
            "\u001b[1m11760/11760\u001b[0m \u001b[32m━━━━━━━━━━━━━━━━━━━━\u001b[0m\u001b[37m\u001b[0m \u001b[1m22s\u001b[0m 2ms/step - accuracy: 0.8467 - loss: 0.3419 - val_accuracy: 0.8475 - val_loss: 0.3410\n",
            "Epoch 31/50\n",
            "\u001b[1m11760/11760\u001b[0m \u001b[32m━━━━━━━━━━━━━━━━━━━━\u001b[0m\u001b[37m\u001b[0m \u001b[1m21s\u001b[0m 2ms/step - accuracy: 0.8451 - loss: 0.3440 - val_accuracy: 0.8479 - val_loss: 0.3422\n",
            "Epoch 32/50\n",
            "\u001b[1m11760/11760\u001b[0m \u001b[32m━━━━━━━━━━━━━━━━━━━━\u001b[0m\u001b[37m\u001b[0m \u001b[1m24s\u001b[0m 2ms/step - accuracy: 0.8482 - loss: 0.3409 - val_accuracy: 0.8465 - val_loss: 0.3440\n",
            "Epoch 33/50\n",
            "\u001b[1m11760/11760\u001b[0m \u001b[32m━━━━━━━━━━━━━━━━━━━━\u001b[0m\u001b[37m\u001b[0m \u001b[1m23s\u001b[0m 2ms/step - accuracy: 0.8466 - loss: 0.3414 - val_accuracy: 0.8463 - val_loss: 0.3435\n",
            "Epoch 34/50\n",
            "\u001b[1m11760/11760\u001b[0m \u001b[32m━━━━━━━━━━━━━━━━━━━━\u001b[0m\u001b[37m\u001b[0m \u001b[1m20s\u001b[0m 2ms/step - accuracy: 0.8478 - loss: 0.3403 - val_accuracy: 0.8450 - val_loss: 0.3458\n",
            "Epoch 35/50\n",
            "\u001b[1m11760/11760\u001b[0m \u001b[32m━━━━━━━━━━━━━━━━━━━━\u001b[0m\u001b[37m\u001b[0m \u001b[1m21s\u001b[0m 2ms/step - accuracy: 0.8486 - loss: 0.3386 - val_accuracy: 0.8499 - val_loss: 0.3407\n",
            "Epoch 36/50\n",
            "\u001b[1m11760/11760\u001b[0m \u001b[32m━━━━━━━━━━━━━━━━━━━━\u001b[0m\u001b[37m\u001b[0m \u001b[1m18s\u001b[0m 2ms/step - accuracy: 0.8481 - loss: 0.3377 - val_accuracy: 0.8452 - val_loss: 0.3456\n",
            "Epoch 37/50\n",
            "\u001b[1m11760/11760\u001b[0m \u001b[32m━━━━━━━━━━━━━━━━━━━━\u001b[0m\u001b[37m\u001b[0m \u001b[1m21s\u001b[0m 2ms/step - accuracy: 0.8509 - loss: 0.3359 - val_accuracy: 0.8476 - val_loss: 0.3398\n",
            "Epoch 38/50\n",
            "\u001b[1m11760/11760\u001b[0m \u001b[32m━━━━━━━━━━━━━━━━━━━━\u001b[0m\u001b[37m\u001b[0m \u001b[1m19s\u001b[0m 2ms/step - accuracy: 0.8498 - loss: 0.3357 - val_accuracy: 0.8484 - val_loss: 0.3396\n",
            "Epoch 39/50\n",
            "\u001b[1m11760/11760\u001b[0m \u001b[32m━━━━━━━━━━━━━━━━━━━━\u001b[0m\u001b[37m\u001b[0m \u001b[1m19s\u001b[0m 2ms/step - accuracy: 0.8511 - loss: 0.3344 - val_accuracy: 0.8465 - val_loss: 0.3415\n",
            "Epoch 40/50\n",
            "\u001b[1m11760/11760\u001b[0m \u001b[32m━━━━━━━━━━━━━━━━━━━━\u001b[0m\u001b[37m\u001b[0m \u001b[1m21s\u001b[0m 2ms/step - accuracy: 0.8512 - loss: 0.3346 - val_accuracy: 0.8496 - val_loss: 0.3369\n",
            "Epoch 41/50\n",
            "\u001b[1m11760/11760\u001b[0m \u001b[32m━━━━━━━━━━━━━━━━━━━━\u001b[0m\u001b[37m\u001b[0m \u001b[1m22s\u001b[0m 2ms/step - accuracy: 0.8518 - loss: 0.3347 - val_accuracy: 0.8492 - val_loss: 0.3389\n",
            "Epoch 42/50\n",
            "\u001b[1m11760/11760\u001b[0m \u001b[32m━━━━━━━━━━━━━━━━━━━━\u001b[0m\u001b[37m\u001b[0m \u001b[1m37s\u001b[0m 1ms/step - accuracy: 0.8520 - loss: 0.3330 - val_accuracy: 0.8500 - val_loss: 0.3372\n",
            "Epoch 43/50\n",
            "\u001b[1m11760/11760\u001b[0m \u001b[32m━━━━━━━━━━━━━━━━━━━━\u001b[0m\u001b[37m\u001b[0m \u001b[1m18s\u001b[0m 2ms/step - accuracy: 0.8521 - loss: 0.3323 - val_accuracy: 0.8466 - val_loss: 0.3426\n",
            "Epoch 44/50\n",
            "\u001b[1m11760/11760\u001b[0m \u001b[32m━━━━━━━━━━━━━━━━━━━━\u001b[0m\u001b[37m\u001b[0m \u001b[1m23s\u001b[0m 2ms/step - accuracy: 0.8516 - loss: 0.3336 - val_accuracy: 0.8493 - val_loss: 0.3395\n",
            "Epoch 45/50\n",
            "\u001b[1m11760/11760\u001b[0m \u001b[32m━━━━━━━━━━━━━━━━━━━━\u001b[0m\u001b[37m\u001b[0m \u001b[1m17s\u001b[0m 1ms/step - accuracy: 0.8522 - loss: 0.3319 - val_accuracy: 0.8410 - val_loss: 0.3492\n",
            "Epoch 46/50\n",
            "\u001b[1m11760/11760\u001b[0m \u001b[32m━━━━━━━━━━━━━━━━━━━━\u001b[0m\u001b[37m\u001b[0m \u001b[1m23s\u001b[0m 2ms/step - accuracy: 0.8534 - loss: 0.3307 - val_accuracy: 0.8515 - val_loss: 0.3342\n",
            "Epoch 47/50\n",
            "\u001b[1m11760/11760\u001b[0m \u001b[32m━━━━━━━━━━━━━━━━━━━━\u001b[0m\u001b[37m\u001b[0m \u001b[1m17s\u001b[0m 1ms/step - accuracy: 0.8525 - loss: 0.3301 - val_accuracy: 0.8507 - val_loss: 0.3358\n",
            "Epoch 48/50\n",
            "\u001b[1m11760/11760\u001b[0m \u001b[32m━━━━━━━━━━━━━━━━━━━━\u001b[0m\u001b[37m\u001b[0m \u001b[1m21s\u001b[0m 2ms/step - accuracy: 0.8537 - loss: 0.3290 - val_accuracy: 0.8502 - val_loss: 0.3389\n",
            "Epoch 49/50\n",
            "\u001b[1m11760/11760\u001b[0m \u001b[32m━━━━━━━━━━━━━━━━━━━━\u001b[0m\u001b[37m\u001b[0m \u001b[1m22s\u001b[0m 2ms/step - accuracy: 0.8540 - loss: 0.3307 - val_accuracy: 0.8460 - val_loss: 0.3411\n",
            "Epoch 50/50\n",
            "\u001b[1m11760/11760\u001b[0m \u001b[32m━━━━━━━━━━━━━━━━━━━━\u001b[0m\u001b[37m\u001b[0m \u001b[1m22s\u001b[0m 2ms/step - accuracy: 0.8535 - loss: 0.3298 - val_accuracy: 0.8501 - val_loss: 0.3381\n",
            "\u001b[1m3675/3675\u001b[0m \u001b[32m━━━━━━━━━━━━━━━━━━━━\u001b[0m\u001b[37m\u001b[0m \u001b[1m5s\u001b[0m 1ms/step - accuracy: 0.8489 - loss: 0.3399\n",
            "Test Accuracy: 84.97%\n",
            "\u001b[1m3675/3675\u001b[0m \u001b[32m━━━━━━━━━━━━━━━━━━━━\u001b[0m\u001b[37m\u001b[0m \u001b[1m5s\u001b[0m 1ms/step\n",
            "Accuracy using sklearn: 84.97%\n"
          ]
        }
      ]
    },
    {
      "cell_type": "code",
      "source": [
        "import pandas as pd\n",
        "import joblib  # To save the model\n",
        "from sklearn.model_selection import train_test_split\n",
        "from sklearn.ensemble import RandomForestClassifier\n",
        "from sklearn.metrics import accuracy_score, classification_report, confusion_matrix\n",
        "import seaborn as sns\n",
        "import matplotlib.pyplot as plt\n",
        "\n",
        "# Install necessary libraries (specific to Google Colab)\n",
        "!pip install -q seaborn scikit-learn joblib pandas matplotlib\n",
        "\n",
        "# Load the balanced dataset\n",
        "file_path = \"/content/drive/MyDrive/balanced_sepsis_data (1).csv\"\n",
        "df = pd.read_csv(file_path)\n",
        "\n",
        "# Step 1: Separate features and target\n",
        "X = df.drop(columns=[\"SepsisLabel\"])  # Features\n",
        "y = df[\"SepsisLabel\"]  # Target\n",
        "\n",
        "# Step 2: Split into training & testing sets (80% train, 20% test)\n",
        "X_train, X_test, y_train, y_test = train_test_split(X, y, test_size=0.2, random_state=42)\n",
        "\n",
        "# Step 3: Train the Random Forest model\n",
        "rf_model = RandomForestClassifier(n_estimators=100, random_state=42)\n",
        "rf_model.fit(X_train, y_train)\n",
        "\n",
        "# Step 4: Make predictions\n",
        "y_pred = rf_model.predict(X_test)\n",
        "\n",
        "# Step 5: Evaluate the Model\n",
        "accuracy = accuracy_score(y_test, y_pred)\n",
        "print(f\"✅ Model Accuracy: {accuracy:.4f}\\n\")\n",
        "print(\"📌 Classification Report:\\n\", classification_report(y_test, y_pred))\n",
        "\n",
        "# Step 6: Confusion Matrix Visualization\n",
        "plt.figure(figsize=(6,5))\n",
        "sns.heatmap(confusion_matrix(y_test, y_pred), annot=True, fmt=\"d\", cmap=\"Blues\",\n",
        "            xticklabels=[\"No Sepsis\", \"Sepsis\"], yticklabels=[\"No Sepsis\", \"Sepsis\"])\n",
        "plt.xlabel(\"Predicted\")\n",
        "plt.ylabel(\"Actual\")\n",
        "plt.title(\"Confusion Matrix\")\n",
        "plt.show()\n",
        "\n",
        "# Step 7: Save the trained model\n",
        "model_path = \"/content/drive/MyDrive/random_forest_sepsis_model.pkl\"\n",
        "joblib.dump(rf_model, model_path)\n",
        "print(f\"✅ Model saved as: {model_path}\")\n",
        "\n",
        "# Step 8: Download the model file (for Google Colab users)\n",
        "from google.colab import files\n",
        "files.download(model_path)"
      ],
      "metadata": {
        "colab": {
          "base_uri": "https://localhost:8080/",
          "height": 730
        },
        "id": "xtiuCnUd1ikI",
        "outputId": "46e489d1-2504-47e5-ee2f-1f6c5a48fc51"
      },
      "execution_count": null,
      "outputs": [
        {
          "output_type": "stream",
          "name": "stdout",
          "text": [
            "✅ Model Accuracy: 0.9937\n",
            "\n",
            "📌 Classification Report:\n",
            "               precision    recall  f1-score   support\n",
            "\n",
            "           0       0.99      1.00      0.99     58779\n",
            "           1       1.00      0.99      0.99     58820\n",
            "\n",
            "    accuracy                           0.99    117599\n",
            "   macro avg       0.99      0.99      0.99    117599\n",
            "weighted avg       0.99      0.99      0.99    117599\n",
            "\n"
          ]
        },
        {
          "output_type": "display_data",
          "data": {
            "text/plain": [
              "<Figure size 600x500 with 2 Axes>"
            ],
            "image/png": "[encoded data removed]"
          },
          "metadata": {}
        },
        {
          "output_type": "stream",
          "name": "stdout",
          "text": [
            "✅ Model saved as: /content/drive/MyDrive/random_forest_sepsis_model.pkl\n"
          ]
        },
        {
          "output_type": "display_data",
          "data": {
            "text/plain": [
              "<IPython.core.display.Javascript object>"
            ],
            "application/javascript": [
              "\n",
              "    async function download(id, filename, size) {\n",
              "      if (!google.colab.kernel.accessAllowed) {\n",
              "        return;\n",
              "      }\n",
              "      const div = document.createElement('div');\n",
              "      const label = document.createElement('label');\n",
              "      label.textContent = `Downloading \"${filename}\": `;\n",
              "      div.appendChild(label);\n",
              "      const progress = document.createElement('progress');\n",
              "      progress.max = size;\n",
              "      div.appendChild(progress);\n",
              "      document.body.appendChild(div);\n",
              "\n",
              "      const buffers = [];\n",
              "      let downloaded = 0;\n",
              "\n",
              "      const channel = await google.colab.kernel.comms.open(id);\n",
              "      // Send a message to notify the kernel that we're ready.\n",
              "      channel.send({})\n",
              "\n",
              "      for await (const message of channel.messages) {\n",
              "        // Send a message to notify the kernel that we're ready.\n",
              "        channel.send({})\n",
              "        if (message.buffers) {\n",
              "          for (const buffer of message.buffers) {\n",
              "            buffers.push(buffer);\n",
              "            downloaded += buffer.byteLength;\n",
              "            progress.value = downloaded;\n",
              "          }\n",
              "        }\n",
              "      }\n",
              "      const blob = new Blob(buffers, {type: 'application/binary'});\n",
              "      const a = document.createElement('a');\n",
              "      a.href = window.URL.createObjectURL(blob);\n",
              "      a.download = filename;\n",
              "      div.appendChild(a);\n",
              "      a.click();\n",
              "      div.remove();\n",
              "    }\n",
              "  "
            ]
          },
          "metadata": {}
        },
        {
          "output_type": "display_data",
          "data": {
            "text/plain": [
              "<IPython.core.display.Javascript object>"
            ],
            "application/javascript": [
              "download(\"download_a93feab2-e7e6-4c89-8d35-fe1a9b77751a\", \"random_forest_sepsis_model.pkl\", 295965321)"
            ]
          },
          "metadata": {}
        }
      ]
    },
    {
      "cell_type": "code",
      "source": [
        "import pandas as pd\n",
        "import joblib\n",
        "from sklearn.metrics import accuracy_score, classification_report, confusion_matrix\n",
        "import seaborn as sns\n",
        "import matplotlib.pyplot as plt\n",
        "\n",
        "# Load the saved model\n",
        "model_path = \"/content/drive/MyDrive/random_forest_sepsis_model.pkl\"\n",
        "rf_model = joblib.load(model_path)\n",
        "\n",
        "# Load test dataset (ensure it has the same feature columns as training data)\n",
        "test_file_path = \"/content/drive/MyDrive/balanced_sepsis_data (1).csv\"  # Change to your actual test file\n",
        "new_data = pd.read_csv(test_file_path)\n",
        "\n",
        "# Separate features and target (assuming target is 'SepsisLabel')\n",
        "X_test = new_data.drop(columns=[\"SepsisLabel\"])\n",
        "y_test = new_data[\"SepsisLabel\"]\n",
        "\n",
        "# Make predictions\n",
        "y_pred = rf_model.predict(X_test)\n",
        "\n",
        "# Evaluate the Model\n",
        "accuracy = accuracy_score(y_test, y_pred)\n",
        "print(f\"✅ Model Accuracy: {accuracy:.4f}\\n\")\n",
        "print(\"📌 Classification Report:\\n\", classification_report(y_test, y_pred))\n",
        "\n",
        "# Confusion Matrix Visualization\n",
        "plt.figure(figsize=(6,5))\n",
        "sns.heatmap(confusion_matrix(y_test, y_pred), annot=True, fmt=\"d\", cmap=\"Blues\",\n",
        "            xticklabels=[\"No Sepsis\", \"Sepsis\"], yticklabels=[\"No Sepsis\", \"Sepsis\"])\n",
        "plt.xlabel(\"Predicted\")\n",
        "plt.ylabel(\"Actual\")\n",
        "plt.title(\"Confusion Matrix\")\n",
        "plt.show()\n",
        "\n",
        "\n"
      ],
      "metadata": {
        "id": "n0osgpRj32Jp",
        "colab": {
          "base_uri": "https://localhost:8080/",
          "height": 695
        },
        "outputId": "8ce18373-c85e-47f9-e871-47cd39f99a8f"
      },
      "execution_count": null,
      "outputs": [
        {
          "output_type": "stream",
          "name": "stdout",
          "text": [
            "✅ Model Accuracy: 0.9987\n",
            "\n",
            "📌 Classification Report:\n",
            "               precision    recall  f1-score   support\n",
            "\n",
            "           0       1.00      1.00      1.00    293997\n",
            "           1       1.00      1.00      1.00    293997\n",
            "\n",
            "    accuracy                           1.00    587994\n",
            "   macro avg       1.00      1.00      1.00    587994\n",
            "weighted avg       1.00      1.00      1.00    587994\n",
            "\n"
          ]
        },
        {
          "output_type": "display_data",
          "data": {
            "text/plain": [
              "<Figure size 600x500 with 2 Axes>"
            ],
            "image/png": "[encoded data removed]"
          },
          "metadata": {}
        }
      ]
    }
  ]
}