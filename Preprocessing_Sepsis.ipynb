{
  "nbformat": 4,
  "nbformat_minor": 0,
  "metadata": {
    "colab": {
      "provenance": []
    },
    "kernelspec": {
      "name": "python3",
      "display_name": "Python 3"
    },
    "language_info": {
      "name": "python"
    }
  },
  "cells": [
    {
      "cell_type": "code",
      "execution_count": 12,
      "metadata": {
        "colab": {
          "base_uri": "https://localhost:8080/"
        },
        "id": "FT7m0T3Nzz9L",
        "outputId": "ffd77f5d-42f7-4fb6-e89e-2fbd46d161c0"
      },
      "outputs": [
        {
          "output_type": "stream",
          "name": "stdout",
          "text": [
            "Drive already mounted at /content/drive; to attempt to forcibly remount, call drive.mount(\"/content/drive\", force_remount=True).\n"
          ]
        }
      ],
      "source": [
        "from google.colab import drive\n",
        "drive.mount('/content/drive')"
      ]
    },
    {
      "cell_type": "code",
      "source": [
        "import pandas as pd\n",
        "\n",
        "# Load the dataset\n",
        "file_path = '/content/drive/MyDrive/Dataset.csv'\n",
        "df = pd.read_csv(file_path)\n",
        "\n",
        "# Calculate percentage of null values in each column\n",
        "null_percentages = df.isnull().mean() * 100\n",
        "\n",
        "# Sort and display\n",
        "null_percentages = null_percentages.sort_values(ascending=False)\n",
        "print(null_percentages)\n"
      ],
      "metadata": {
        "colab": {
          "base_uri": "https://localhost:8080/"
        },
        "id": "9fGpvibz0SVA",
        "outputId": "1ca961d2-74a0-4de9-9b0a-c35708dcf8b0"
      },
      "execution_count": 2,
      "outputs": [
        {
          "output_type": "stream",
          "name": "stdout",
          "text": [
            "Bilirubin_direct    99.807371\n",
            "Fibrinogen          99.340167\n",
            "TroponinI           99.047745\n",
            "Bilirubin_total     98.509158\n",
            "Alkalinephos        98.393194\n",
            "AST                 98.377604\n",
            "Lactate             97.329872\n",
            "PTT                 97.055875\n",
            "SaO2                96.549372\n",
            "EtCO2               96.286843\n",
            "Phosphate           95.986303\n",
            "HCO3                95.810618\n",
            "Chloride            95.460279\n",
            "BaseExcess          94.579020\n",
            "PaCO2               94.440121\n",
            "Calcium             94.116067\n",
            "Platelets           94.059502\n",
            "Creatinine          93.904433\n",
            "Magnesium           93.689578\n",
            "WBC                 93.593199\n",
            "BUN                 93.134434\n",
            "pH                  93.069688\n",
            "Hgb                 92.617558\n",
            "FiO2                91.665754\n",
            "Hct                 91.145979\n",
            "Potassium           90.689082\n",
            "Glucose             82.894325\n",
            "Temp                66.162697\n",
            "Unit2               39.425078\n",
            "Unit1               39.425078\n",
            "DBP                 31.345887\n",
            "Resp                15.354559\n",
            "SBP                 14.576958\n",
            "O2Sat               13.061119\n",
            "MAP                 12.451279\n",
            "HR                   9.882619\n",
            "HospAdmTime          0.000515\n",
            "Unnamed: 0           0.000000\n",
            "Hour                 0.000000\n",
            "Gender               0.000000\n",
            "Age                  0.000000\n",
            "ICULOS               0.000000\n",
            "SepsisLabel          0.000000\n",
            "Patient_ID           0.000000\n",
            "dtype: float64\n"
          ]
        }
      ]
    },
    {
      "cell_type": "code",
      "source": [
        "import pandas as pd\n",
        "\n",
        "# Load the dataset (update the file path as needed)\n",
        "file_path = \"/content/drive/MyDrive/Dataset.csv\"  # Change to your actual file path\n",
        "df = pd.read_csv(file_path)\n",
        "\n",
        "# Check the percentage of missing values in each column\n",
        "missing_percent = df.isnull().mean() * 100\n",
        "\n",
        "# Drop columns with more than 85% missing values\n",
        "columns_to_keep = missing_percent[missing_percent <= 85].index\n",
        "df_cleaned = df[columns_to_keep]\n",
        "\n",
        "# Drop duplicate rows if any\n",
        "df_cleaned = df_cleaned.drop_duplicates()\n",
        "\n",
        "# Fill remaining missing values\n",
        "for col in df_cleaned.columns:\n",
        "    if df_cleaned[col].dtype == 'object':  # Categorical columns\n",
        "        df_cleaned[col].fillna(df_cleaned[col].mode()[0], inplace=True)\n",
        "    else:  # Numerical columns\n",
        "        df_cleaned[col].fillna(df_cleaned[col].mean(), inplace=True)\n",
        "\n",
        "# Save the cleaned dataset\n",
        "cleaned_file_path = \"Cleaned_Dataset.csv\"\n",
        "df_cleaned.to_csv(cleaned_file_path, index=False)\n",
        "\n",
        "print(f\"Cleaned dataset saved as {cleaned_file_path}\")"
      ],
      "metadata": {
        "colab": {
          "base_uri": "https://localhost:8080/"
        },
        "id": "VCbpNAVV2PMW",
        "outputId": "15aa5c71-b2b3-4935-84e1-81eed62ac538"
      },
      "execution_count": 5,
      "outputs": [
        {
          "output_type": "stream",
          "name": "stderr",
          "text": [
            "<ipython-input-5-de7694612135>:22: FutureWarning: A value is trying to be set on a copy of a DataFrame or Series through chained assignment using an inplace method.\n",
            "The behavior will change in pandas 3.0. This inplace method will never work because the intermediate object on which we are setting values always behaves as a copy.\n",
            "\n",
            "For example, when doing 'df[col].method(value, inplace=True)', try using 'df.method({col: value}, inplace=True)' or df[col] = df[col].method(value) instead, to perform the operation inplace on the original object.\n",
            "\n",
            "\n",
            "  df_cleaned[col].fillna(df_cleaned[col].mean(), inplace=True)\n"
          ]
        },
        {
          "output_type": "stream",
          "name": "stdout",
          "text": [
            "Cleaned dataset saved as Cleaned_Dataset.csv\n"
          ]
        }
      ]
    },
    {
      "cell_type": "code",
      "source": [
        "\n",
        "print(df_cleaned.isnull().sum())"
      ],
      "metadata": {
        "colab": {
          "base_uri": "https://localhost:8080/"
        },
        "id": "rrUrQw-N2kla",
        "outputId": "18877ca3-84aa-45bf-f17e-7670acd05f49"
      },
      "execution_count": 6,
      "outputs": [
        {
          "output_type": "stream",
          "name": "stdout",
          "text": [
            "Unnamed: 0     0\n",
            "Hour           0\n",
            "HR             0\n",
            "O2Sat          0\n",
            "Temp           0\n",
            "SBP            0\n",
            "MAP            0\n",
            "DBP            0\n",
            "Resp           0\n",
            "Glucose        0\n",
            "Age            0\n",
            "Gender         0\n",
            "Unit1          0\n",
            "Unit2          0\n",
            "HospAdmTime    0\n",
            "ICULOS         0\n",
            "SepsisLabel    0\n",
            "Patient_ID     0\n",
            "dtype: int64\n"
          ]
        }
      ]
    },
    {
      "cell_type": "code",
      "source": [
        "dropped_columns = missing_percent[missing_percent > 85].index\n",
        "print(\"Dropped Columns:\", list(dropped_columns))"
      ],
      "metadata": {
        "colab": {
          "base_uri": "https://localhost:8080/"
        },
        "id": "zL85Lxb945V-",
        "outputId": "81e795a2-e9a1-4957-e062-f6802c40e3de"
      },
      "execution_count": 7,
      "outputs": [
        {
          "output_type": "stream",
          "name": "stdout",
          "text": [
            "Dropped Columns: ['EtCO2', 'BaseExcess', 'HCO3', 'FiO2', 'pH', 'PaCO2', 'SaO2', 'AST', 'BUN', 'Alkalinephos', 'Calcium', 'Chloride', 'Creatinine', 'Bilirubin_direct', 'Lactate', 'Magnesium', 'Phosphate', 'Potassium', 'Bilirubin_total', 'TroponinI', 'Hct', 'Hgb', 'PTT', 'WBC', 'Fibrinogen', 'Platelets']\n"
          ]
        }
      ]
    },
    {
      "cell_type": "code",
      "source": [
        "print(f\"Duplicate rows before removal: {df.duplicated().sum()}\")\n",
        "print(f\"Duplicate rows after removal: {df_cleaned.duplicated().sum()}\")"
      ],
      "metadata": {
        "colab": {
          "base_uri": "https://localhost:8080/"
        },
        "id": "CYsHmE6I6Rx_",
        "outputId": "9e8a3e51-fe41-4a8b-c276-821e0007e1f6"
      },
      "execution_count": 8,
      "outputs": [
        {
          "output_type": "stream",
          "name": "stdout",
          "text": [
            "Duplicate rows before removal: 0\n",
            "Duplicate rows after removal: 0\n"
          ]
        }
      ]
    },
    {
      "cell_type": "code",
      "source": [
        "print(f\"Original shape: {df.shape}\")\n",
        "print(f\"Cleaned shape: {df_cleaned.shape}\")"
      ],
      "metadata": {
        "colab": {
          "base_uri": "https://localhost:8080/"
        },
        "id": "v6KpQUyA6dC2",
        "outputId": "d0ae8f80-602f-4938-beb1-e6026ef1ff45"
      },
      "execution_count": 9,
      "outputs": [
        {
          "output_type": "stream",
          "name": "stdout",
          "text": [
            "Original shape: (1552210, 44)\n",
            "Cleaned shape: (1552210, 18)\n"
          ]
        }
      ]
    },
    {
      "cell_type": "code",
      "source": [
        "df_cleaned.head()"
      ],
      "metadata": {
        "colab": {
          "base_uri": "https://localhost:8080/",
          "height": 243
        },
        "id": "lRoEb1dr6xdB",
        "outputId": "67fbb625-0914-4682-e8eb-0a3b7c8157c7"
      },
      "execution_count": 10,
      "outputs": [
        {
          "output_type": "execute_result",
          "data": {
            "text/plain": [
              "   Unnamed: 0  Hour         HR       O2Sat       Temp         SBP      MAP  \\\n",
              "0           0     0  84.581443   97.193955  36.977228  123.750465  82.4001   \n",
              "1           1     1  65.000000  100.000000  36.977228  123.750465  72.0000   \n",
              "2           2     2  78.000000  100.000000  36.977228  123.750465  42.5000   \n",
              "3           3     3  73.000000  100.000000  36.977228  123.750465  82.4001   \n",
              "4           4     4  70.000000  100.000000  36.977228  129.000000  74.0000   \n",
              "\n",
              "         DBP       Resp     Glucose    Age  Gender     Unit1     Unit2  \\\n",
              "0  63.830556  18.726498  136.932283  68.54       0  0.496571  0.503429   \n",
              "1  63.830556  16.500000  136.932283  68.54       0  0.496571  0.503429   \n",
              "2  63.830556  18.726498  136.932283  68.54       0  0.496571  0.503429   \n",
              "3  63.830556  17.000000  136.932283  68.54       0  0.496571  0.503429   \n",
              "4  69.000000  14.000000  161.000000  68.54       0  0.496571  0.503429   \n",
              "\n",
              "   HospAdmTime  ICULOS  SepsisLabel  Patient_ID  \n",
              "0        -0.02       1            0       17072  \n",
              "1        -0.02       2            0       17072  \n",
              "2        -0.02       3            0       17072  \n",
              "3        -0.02       4            0       17072  \n",
              "4        -0.02       5            0       17072  "
            ],
            "text/html": [
              "\n",
              "  <div id=\"df-03732ac7-5b42-48a9-aa98-ca87e3ea451c\" class=\"colab-df-container\">\n",
              "    <div>\n",
              "<style scoped>\n",
              "    .dataframe tbody tr th:only-of-type {\n",
              "        vertical-align: middle;\n",
              "    }\n",
              "\n",
              "    .dataframe tbody tr th {\n",
              "        vertical-align: top;\n",
              "    }\n",
              "\n",
              "    .dataframe thead th {\n",
              "        text-align: right;\n",
              "    }\n",
              "</style>\n",
              "<table border=\"1\" class=\"dataframe\">\n",
              "  <thead>\n",
              "    <tr style=\"text-align: right;\">\n",
              "      <th></th>\n",
              "      <th>Unnamed: 0</th>\n",
              "      <th>Hour</th>\n",
              "      <th>HR</th>\n",
              "      <th>O2Sat</th>\n",
              "      <th>Temp</th>\n",
              "      <th>SBP</th>\n",
              "      <th>MAP</th>\n",
              "      <th>DBP</th>\n",
              "      <th>Resp</th>\n",
              "      <th>Glucose</th>\n",
              "      <th>Age</th>\n",
              "      <th>Gender</th>\n",
              "      <th>Unit1</th>\n",
              "      <th>Unit2</th>\n",
              "      <th>HospAdmTime</th>\n",
              "      <th>ICULOS</th>\n",
              "      <th>SepsisLabel</th>\n",
              "      <th>Patient_ID</th>\n",
              "    </tr>\n",
              "  </thead>\n",
              "  <tbody>\n",
              "    <tr>\n",
              "      <th>0</th>\n",
              "      <td>0</td>\n",
              "      <td>0</td>\n",
              "      <td>84.581443</td>\n",
              "      <td>97.193955</td>\n",
              "      <td>36.977228</td>\n",
              "      <td>123.750465</td>\n",
              "      <td>82.4001</td>\n",
              "      <td>63.830556</td>\n",
              "      <td>18.726498</td>\n",
              "      <td>136.932283</td>\n",
              "      <td>68.54</td>\n",
              "      <td>0</td>\n",
              "      <td>0.496571</td>\n",
              "      <td>0.503429</td>\n",
              "      <td>-0.02</td>\n",
              "      <td>1</td>\n",
              "      <td>0</td>\n",
              "      <td>17072</td>\n",
              "    </tr>\n",
              "    <tr>\n",
              "      <th>1</th>\n",
              "      <td>1</td>\n",
              "      <td>1</td>\n",
              "      <td>65.000000</td>\n",
              "      <td>100.000000</td>\n",
              "      <td>36.977228</td>\n",
              "      <td>123.750465</td>\n",
              "      <td>72.0000</td>\n",
              "      <td>63.830556</td>\n",
              "      <td>16.500000</td>\n",
              "      <td>136.932283</td>\n",
              "      <td>68.54</td>\n",
              "      <td>0</td>\n",
              "      <td>0.496571</td>\n",
              "      <td>0.503429</td>\n",
              "      <td>-0.02</td>\n",
              "      <td>2</td>\n",
              "      <td>0</td>\n",
              "      <td>17072</td>\n",
              "    </tr>\n",
              "    <tr>\n",
              "      <th>2</th>\n",
              "      <td>2</td>\n",
              "      <td>2</td>\n",
              "      <td>78.000000</td>\n",
              "      <td>100.000000</td>\n",
              "      <td>36.977228</td>\n",
              "      <td>123.750465</td>\n",
              "      <td>42.5000</td>\n",
              "      <td>63.830556</td>\n",
              "      <td>18.726498</td>\n",
              "      <td>136.932283</td>\n",
              "      <td>68.54</td>\n",
              "      <td>0</td>\n",
              "      <td>0.496571</td>\n",
              "      <td>0.503429</td>\n",
              "      <td>-0.02</td>\n",
              "      <td>3</td>\n",
              "      <td>0</td>\n",
              "      <td>17072</td>\n",
              "    </tr>\n",
              "    <tr>\n",
              "      <th>3</th>\n",
              "      <td>3</td>\n",
              "      <td>3</td>\n",
              "      <td>73.000000</td>\n",
              "      <td>100.000000</td>\n",
              "      <td>36.977228</td>\n",
              "      <td>123.750465</td>\n",
              "      <td>82.4001</td>\n",
              "      <td>63.830556</td>\n",
              "      <td>17.000000</td>\n",
              "      <td>136.932283</td>\n",
              "      <td>68.54</td>\n",
              "      <td>0</td>\n",
              "      <td>0.496571</td>\n",
              "      <td>0.503429</td>\n",
              "      <td>-0.02</td>\n",
              "      <td>4</td>\n",
              "      <td>0</td>\n",
              "      <td>17072</td>\n",
              "    </tr>\n",
              "    <tr>\n",
              "      <th>4</th>\n",
              "      <td>4</td>\n",
              "      <td>4</td>\n",
              "      <td>70.000000</td>\n",
              "      <td>100.000000</td>\n",
              "      <td>36.977228</td>\n",
              "      <td>129.000000</td>\n",
              "      <td>74.0000</td>\n",
              "      <td>69.000000</td>\n",
              "      <td>14.000000</td>\n",
              "      <td>161.000000</td>\n",
              "      <td>68.54</td>\n",
              "      <td>0</td>\n",
              "      <td>0.496571</td>\n",
              "      <td>0.503429</td>\n",
              "      <td>-0.02</td>\n",
              "      <td>5</td>\n",
              "      <td>0</td>\n",
              "      <td>17072</td>\n",
              "    </tr>\n",
              "  </tbody>\n",
              "</table>\n",
              "</div>\n",
              "    <div class=\"colab-df-buttons\">\n",
              "\n",
              "  <div class=\"colab-df-container\">\n",
              "    <button class=\"colab-df-convert\" onclick=\"convertToInteractive('df-03732ac7-5b42-48a9-aa98-ca87e3ea451c')\"\n",
              "            title=\"Convert this dataframe to an interactive table.\"\n",
              "            style=\"display:none;\">\n",
              "\n",
              "  <svg xmlns=\"http://www.w3.org/2000/svg\" height=\"24px\" viewBox=\"0 -960 960 960\">\n",
              "    <path d=\"M120-120v-720h720v720H120Zm60-500h600v-160H180v160Zm220 220h160v-160H400v160Zm0 220h160v-160H400v160ZM180-400h160v-160H180v160Zm440 0h160v-160H620v160ZM180-180h160v-160H180v160Zm440 0h160v-160H620v160Z\"/>\n",
              "  </svg>\n",
              "    </button>\n",
              "\n",
              "  <style>\n",
              "    .colab-df-container {\n",
              "      display:flex;\n",
              "      gap: 12px;\n",
              "    }\n",
              "\n",
              "    .colab-df-convert {\n",
              "      background-color: #E8F0FE;\n",
              "      border: none;\n",
              "      border-radius: 50%;\n",
              "      cursor: pointer;\n",
              "      display: none;\n",
              "      fill: #1967D2;\n",
              "      height: 32px;\n",
              "      padding: 0 0 0 0;\n",
              "      width: 32px;\n",
              "    }\n",
              "\n",
              "    .colab-df-convert:hover {\n",
              "      background-color: #E2EBFA;\n",
              "      box-shadow: 0px 1px 2px rgba(60, 64, 67, 0.3), 0px 1px 3px 1px rgba(60, 64, 67, 0.15);\n",
              "      fill: #174EA6;\n",
              "    }\n",
              "\n",
              "    .colab-df-buttons div {\n",
              "      margin-bottom: 4px;\n",
              "    }\n",
              "\n",
              "    [theme=dark] .colab-df-convert {\n",
              "      background-color: #3B4455;\n",
              "      fill: #D2E3FC;\n",
              "    }\n",
              "\n",
              "    [theme=dark] .colab-df-convert:hover {\n",
              "      background-color: #434B5C;\n",
              "      box-shadow: 0px 1px 3px 1px rgba(0, 0, 0, 0.15);\n",
              "      filter: drop-shadow(0px 1px 2px rgba(0, 0, 0, 0.3));\n",
              "      fill: #FFFFFF;\n",
              "    }\n",
              "  </style>\n",
              "\n",
              "    <script>\n",
              "      const buttonEl =\n",
              "        document.querySelector('#df-03732ac7-5b42-48a9-aa98-ca87e3ea451c button.colab-df-convert');\n",
              "      buttonEl.style.display =\n",
              "        google.colab.kernel.accessAllowed ? 'block' : 'none';\n",
              "\n",
              "      async function convertToInteractive(key) {\n",
              "        const element = document.querySelector('#df-03732ac7-5b42-48a9-aa98-ca87e3ea451c');\n",
              "        const dataTable =\n",
              "          await google.colab.kernel.invokeFunction('convertToInteractive',\n",
              "                                                    [key], {});\n",
              "        if (!dataTable) return;\n",
              "\n",
              "        const docLinkHtml = 'Like what you see? Visit the ' +\n",
              "          '<a target=\"_blank\" href=https://colab.research.google.com/notebooks/data_table.ipynb>data table notebook</a>'\n",
              "          + ' to learn more about interactive tables.';\n",
              "        element.innerHTML = '';\n",
              "        dataTable['output_type'] = 'display_data';\n",
              "        await google.colab.output.renderOutput(dataTable, element);\n",
              "        const docLink = document.createElement('div');\n",
              "        docLink.innerHTML = docLinkHtml;\n",
              "        element.appendChild(docLink);\n",
              "      }\n",
              "    </script>\n",
              "  </div>\n",
              "\n",
              "\n",
              "    <div id=\"df-b6d9ef9a-2498-40ce-9df7-f4f31fd2ddb9\">\n",
              "      <button class=\"colab-df-quickchart\" onclick=\"quickchart('df-b6d9ef9a-2498-40ce-9df7-f4f31fd2ddb9')\"\n",
              "                title=\"Suggest charts\"\n",
              "                style=\"display:none;\">\n",
              "\n",
              "<svg xmlns=\"http://www.w3.org/2000/svg\" height=\"24px\"viewBox=\"0 0 24 24\"\n",
              "     width=\"24px\">\n",
              "    <g>\n",
              "        <path d=\"M19 3H5c-1.1 0-2 .9-2 2v14c0 1.1.9 2 2 2h14c1.1 0 2-.9 2-2V5c0-1.1-.9-2-2-2zM9 17H7v-7h2v7zm4 0h-2V7h2v10zm4 0h-2v-4h2v4z\"/>\n",
              "    </g>\n",
              "</svg>\n",
              "      </button>\n",
              "\n",
              "<style>\n",
              "  .colab-df-quickchart {\n",
              "      --bg-color: #E8F0FE;\n",
              "      --fill-color: #1967D2;\n",
              "      --hover-bg-color: #E2EBFA;\n",
              "      --hover-fill-color: #174EA6;\n",
              "      --disabled-fill-color: #AAA;\n",
              "      --disabled-bg-color: #DDD;\n",
              "  }\n",
              "\n",
              "  [theme=dark] .colab-df-quickchart {\n",
              "      --bg-color: #3B4455;\n",
              "      --fill-color: #D2E3FC;\n",
              "      --hover-bg-color: #434B5C;\n",
              "      --hover-fill-color: #FFFFFF;\n",
              "      --disabled-bg-color: #3B4455;\n",
              "      --disabled-fill-color: #666;\n",
              "  }\n",
              "\n",
              "  .colab-df-quickchart {\n",
              "    background-color: var(--bg-color);\n",
              "    border: none;\n",
              "    border-radius: 50%;\n",
              "    cursor: pointer;\n",
              "    display: none;\n",
              "    fill: var(--fill-color);\n",
              "    height: 32px;\n",
              "    padding: 0;\n",
              "    width: 32px;\n",
              "  }\n",
              "\n",
              "  .colab-df-quickchart:hover {\n",
              "    background-color: var(--hover-bg-color);\n",
              "    box-shadow: 0 1px 2px rgba(60, 64, 67, 0.3), 0 1px 3px 1px rgba(60, 64, 67, 0.15);\n",
              "    fill: var(--button-hover-fill-color);\n",
              "  }\n",
              "\n",
              "  .colab-df-quickchart-complete:disabled,\n",
              "  .colab-df-quickchart-complete:disabled:hover {\n",
              "    background-color: var(--disabled-bg-color);\n",
              "    fill: var(--disabled-fill-color);\n",
              "    box-shadow: none;\n",
              "  }\n",
              "\n",
              "  .colab-df-spinner {\n",
              "    border: 2px solid var(--fill-color);\n",
              "    border-color: transparent;\n",
              "    border-bottom-color: var(--fill-color);\n",
              "    animation:\n",
              "      spin 1s steps(1) infinite;\n",
              "  }\n",
              "\n",
              "  @keyframes spin {\n",
              "    0% {\n",
              "      border-color: transparent;\n",
              "      border-bottom-color: var(--fill-color);\n",
              "      border-left-color: var(--fill-color);\n",
              "    }\n",
              "    20% {\n",
              "      border-color: transparent;\n",
              "      border-left-color: var(--fill-color);\n",
              "      border-top-color: var(--fill-color);\n",
              "    }\n",
              "    30% {\n",
              "      border-color: transparent;\n",
              "      border-left-color: var(--fill-color);\n",
              "      border-top-color: var(--fill-color);\n",
              "      border-right-color: var(--fill-color);\n",
              "    }\n",
              "    40% {\n",
              "      border-color: transparent;\n",
              "      border-right-color: var(--fill-color);\n",
              "      border-top-color: var(--fill-color);\n",
              "    }\n",
              "    60% {\n",
              "      border-color: transparent;\n",
              "      border-right-color: var(--fill-color);\n",
              "    }\n",
              "    80% {\n",
              "      border-color: transparent;\n",
              "      border-right-color: var(--fill-color);\n",
              "      border-bottom-color: var(--fill-color);\n",
              "    }\n",
              "    90% {\n",
              "      border-color: transparent;\n",
              "      border-bottom-color: var(--fill-color);\n",
              "    }\n",
              "  }\n",
              "</style>\n",
              "\n",
              "      <script>\n",
              "        async function quickchart(key) {\n",
              "          const quickchartButtonEl =\n",
              "            document.querySelector('#' + key + ' button');\n",
              "          quickchartButtonEl.disabled = true;  // To prevent multiple clicks.\n",
              "          quickchartButtonEl.classList.add('colab-df-spinner');\n",
              "          try {\n",
              "            const charts = await google.colab.kernel.invokeFunction(\n",
              "                'suggestCharts', [key], {});\n",
              "          } catch (error) {\n",
              "            console.error('Error during call to suggestCharts:', error);\n",
              "          }\n",
              "          quickchartButtonEl.classList.remove('colab-df-spinner');\n",
              "          quickchartButtonEl.classList.add('colab-df-quickchart-complete');\n",
              "        }\n",
              "        (() => {\n",
              "          let quickchartButtonEl =\n",
              "            document.querySelector('#df-b6d9ef9a-2498-40ce-9df7-f4f31fd2ddb9 button');\n",
              "          quickchartButtonEl.style.display =\n",
              "            google.colab.kernel.accessAllowed ? 'block' : 'none';\n",
              "        })();\n",
              "      </script>\n",
              "    </div>\n",
              "\n",
              "    </div>\n",
              "  </div>\n"
            ],
            "application/vnd.google.colaboratory.intrinsic+json": {
              "type": "dataframe",
              "variable_name": "df_cleaned"
            }
          },
          "metadata": {},
          "execution_count": 10
        }
      ]
    },
    {
      "cell_type": "code",
      "source": [
        "df_check = pd.read_csv(\"Cleaned_Dataset.csv\")\n",
        "print(df_check.info())  # Check if the file was saved properly"
      ],
      "metadata": {
        "colab": {
          "base_uri": "https://localhost:8080/"
        },
        "id": "I2lZltIk67pM",
        "outputId": "25349536-eb2d-4866-b664-6d9bf35b0f10"
      },
      "execution_count": 11,
      "outputs": [
        {
          "output_type": "stream",
          "name": "stdout",
          "text": [
            "<class 'pandas.core.frame.DataFrame'>\n",
            "RangeIndex: 1552210 entries, 0 to 1552209\n",
            "Data columns (total 18 columns):\n",
            " #   Column       Non-Null Count    Dtype  \n",
            "---  ------       --------------    -----  \n",
            " 0   Unnamed: 0   1552210 non-null  int64  \n",
            " 1   Hour         1552210 non-null  int64  \n",
            " 2   HR           1552210 non-null  float64\n",
            " 3   O2Sat        1552210 non-null  float64\n",
            " 4   Temp         1552210 non-null  float64\n",
            " 5   SBP          1552210 non-null  float64\n",
            " 6   MAP          1552210 non-null  float64\n",
            " 7   DBP          1552210 non-null  float64\n",
            " 8   Resp         1552210 non-null  float64\n",
            " 9   Glucose      1552210 non-null  float64\n",
            " 10  Age          1552210 non-null  float64\n",
            " 11  Gender       1552210 non-null  int64  \n",
            " 12  Unit1        1552210 non-null  float64\n",
            " 13  Unit2        1552210 non-null  float64\n",
            " 14  HospAdmTime  1552210 non-null  float64\n",
            " 15  ICULOS       1552210 non-null  int64  \n",
            " 16  SepsisLabel  1552210 non-null  int64  \n",
            " 17  Patient_ID   1552210 non-null  int64  \n",
            "dtypes: float64(12), int64(6)\n",
            "memory usage: 213.2 MB\n",
            "None\n"
          ]
        }
      ]
    },
    {
      "cell_type": "code",
      "source": [
        "import pandas as pd\n",
        "\n",
        "# Step 1: Load the dataset\n",
        "file_path = \"/content/drive/MyDrive/Cleaned_Dataset.csv\"  # Update if needed\n",
        "df = pd.read_csv(file_path)\n",
        "\n",
        "# Step 2: Drop specified columns\n",
        "columns_to_remove = ['Hour', 'Glucose', 'Unit1', 'Unit2', 'HospAdmTime', 'ICULOS', 'Patient_ID']\n",
        "df_cleaned = df.drop(columns=columns_to_remove, errors='ignore')\n",
        "\n",
        "\n",
        "\n",
        "# Step 4: Save the new dataset\n",
        "output_path = \"/content/drive/MyDrive/Cleaned_Dataset_No_Unwanted_Columns.csv\"\n",
        "df_cleaned.to_csv(output_path, index=False)\n",
        "print(f\"\\nNew dataset saved to: {output_path}\")\n"
      ],
      "metadata": {
        "colab": {
          "base_uri": "https://localhost:8080/"
        },
        "id": "N8GghEI29FS3",
        "outputId": "4a626235-69a3-4c73-fdf1-06bf1c8db278"
      },
      "execution_count": 14,
      "outputs": [
        {
          "output_type": "stream",
          "name": "stdout",
          "text": [
            "\n",
            "New dataset saved to: /content/drive/MyDrive/Cleaned_Dataset_No_Unwanted_Columns.csv\n"
          ]
        }
      ]
    },
    {
      "cell_type": "code",
      "source": [
        "import pandas as pd\n",
        "\n",
        "# Step 1: Load the dataset\n",
        "file_path = \"/content/drive/MyDrive/Cleaned_Dataset.csv\"  # Update path if needed\n",
        "df = pd.read_csv(file_path)\n",
        "\n",
        "# Step 2: Drop specified columns\n",
        "columns_to_remove = ['Hour', 'Glucose', 'Unit1', 'Unit2', 'HospAdmTime', 'ICULOS', 'Patient_ID']\n",
        "df = df.drop(columns=columns_to_remove, errors='ignore')\n",
        "\n",
        "# Step 3: Reduce to 3 lakh rows (300,000)\n",
        "# Use sample if you want random selection; use head if you want the first 3 lakh rows\n",
        "df_reduced = df.sample(n=300000, random_state=42) if len(df) > 300000 else df\n",
        "\n",
        "# Step 4: Save the reduced dataset\n",
        "reduced_path = \"/content/drive/MyDrive/Cleaned_Dataset_path.csv\"\n",
        "df_reduced.to_csv(reduced_path, index=False)\n",
        "\n",
        "print(f\"Reduced dataset with {len(df_reduced)} rows saved to: {reduced_path}\")\n"
      ],
      "metadata": {
        "colab": {
          "base_uri": "https://localhost:8080/"
        },
        "id": "M9urS3C7_9US",
        "outputId": "50d336fa-5223-4e95-8810-0b90ef2cc304"
      },
      "execution_count": 15,
      "outputs": [
        {
          "output_type": "stream",
          "name": "stdout",
          "text": [
            "Reduced dataset with 300000 rows saved to: /content/drive/MyDrive/Cleaned_Dataset_path.csv\n"
          ]
        }
      ]
    },
    {
      "cell_type": "code",
      "source": [
        "!pip install imbalanced-learn  # Run this once if not already installed\n"
      ],
      "metadata": {
        "colab": {
          "base_uri": "https://localhost:8080/"
        },
        "id": "loLsCRI4ST2Q",
        "outputId": "272b339e-0468-4f2a-90d7-a5957feb739e"
      },
      "execution_count": 16,
      "outputs": [
        {
          "output_type": "stream",
          "name": "stdout",
          "text": [
            "Requirement already satisfied: imbalanced-learn in /usr/local/lib/python3.11/dist-packages (0.13.0)\n",
            "Requirement already satisfied: numpy<3,>=1.24.3 in /usr/local/lib/python3.11/dist-packages (from imbalanced-learn) (2.0.2)\n",
            "Requirement already satisfied: scipy<2,>=1.10.1 in /usr/local/lib/python3.11/dist-packages (from imbalanced-learn) (1.15.3)\n",
            "Requirement already satisfied: scikit-learn<2,>=1.3.2 in /usr/local/lib/python3.11/dist-packages (from imbalanced-learn) (1.6.1)\n",
            "Requirement already satisfied: sklearn-compat<1,>=0.1 in /usr/local/lib/python3.11/dist-packages (from imbalanced-learn) (0.1.3)\n",
            "Requirement already satisfied: joblib<2,>=1.1.1 in /usr/local/lib/python3.11/dist-packages (from imbalanced-learn) (1.5.0)\n",
            "Requirement already satisfied: threadpoolctl<4,>=2.0.0 in /usr/local/lib/python3.11/dist-packages (from imbalanced-learn) (3.6.0)\n"
          ]
        }
      ]
    },
    {
      "cell_type": "code",
      "source": [
        "import pandas as pd\n",
        "from imblearn.over_sampling import SMOTE\n",
        "\n",
        "# Use uploaded file path\n",
        "file_path = '/content/drive/MyDrive/Cleaned_Dataset_path.csv'\n",
        "df = pd.read_csv(file_path)\n",
        "\n",
        "# Step 1: Fill missing values\n",
        "for col in df.columns:\n",
        "    if df[col].dtype == 'object':\n",
        "        df[col] = df[col].fillna(df[col].mode()[0])  # Fill with mode\n",
        "    else:\n",
        "        df[col] = df[col].fillna(df[col].mean())     # Fill with mean\n",
        "\n",
        "# Step 2: Separate features and target\n",
        "X = df.drop(columns=['SepsisLabel'])\n",
        "y = df['SepsisLabel']\n",
        "\n",
        "# Step 3: Apply SMOTE\n",
        "smote = SMOTE(random_state=42)\n",
        "X_resampled, y_resampled = smote.fit_resample(X, y)\n",
        "\n",
        "# Step 4: Combine into new DataFrame\n",
        "df_balanced = pd.DataFrame(X_resampled, columns=X.columns)\n",
        "df_balanced['SepsisLabel'] = y_resampled\n",
        "\n",
        "# Step 5: Save the balanced dataset\n",
        "output_path = '/content/cleaned_sepsiss_data.csv'  # Use Colab's local storage or mount Google Drive if needed\n",
        "df_balanced.to_csv(output_path, index=False)\n",
        "\n",
        "# Confirmation\n",
        "print(f\"Saved successfully to: {output_path}\")\n",
        "print(\"\\nBalanced class distribution:\\n\", df_balanced['SepsisLabel'].value_counts())\n"
      ],
      "metadata": {
        "colab": {
          "base_uri": "https://localhost:8080/"
        },
        "id": "Pc4SFsEESaBO",
        "outputId": "c5f9a1aa-4b3c-4591-ef58-653d657475cf"
      },
      "execution_count": 19,
      "outputs": [
        {
          "output_type": "stream",
          "name": "stdout",
          "text": [
            "Saved successfully to: /content/cleaned_sepsiss_data.csv\n",
            "\n",
            "Balanced class distribution:\n",
            " SepsisLabel\n",
            "0    294641\n",
            "1    294641\n",
            "Name: count, dtype: int64\n"
          ]
        }
      ]
    },
    {
      "cell_type": "code",
      "source": [],
      "metadata": {
        "id": "eiD8gY9mT_Z9"
      },
      "execution_count": null,
      "outputs": []
    }
  ]
}